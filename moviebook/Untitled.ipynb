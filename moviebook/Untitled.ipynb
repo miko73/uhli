{
 "cells": [
  {
   "cell_type": "code",
   "execution_count": 1,
   "metadata": {},
   "outputs": [
    {
     "name": "stdout",
     "output_type": "stream",
     "text": [
      "<module 'pandas' from 'c:\\\\users\\\\micha\\\\projects\\\\uhli\\\\venv\\\\lib\\\\site-packages\\\\pandas\\\\__init__.py'>\n"
     ]
    }
   ],
   "source": [
    "import numpy as np\n",
    "import pandas as pd\n",
    "import matplotlib\n",
    "print(pd)"
   ]
  },
  {
   "cell_type": "code",
   "execution_count": 2,
   "metadata": {},
   "outputs": [
    {
     "name": "stdout",
     "output_type": "stream",
     "text": [
      "len df -  2138\n",
      "df size -  19242\n",
      "        Datum  Objem Měna          Protiúčet  Kód banky  \\\n",
      "0  04.01.2016    400  CZK  670100-2201092094     6210.0   \n",
      "1  04.01.2016    400  CZK  670100-2201092094     6210.0   \n",
      "2  05.01.2016    400  CZK      27-9638310287      100.0   \n",
      "3  05.01.2016    200  CZK      27-9638310287      100.0   \n",
      "4  06.01.2016   2400  CZK      51-1683520287      100.0   \n",
      "\n",
      "                                 Zpráva pro příjemce           Poznámka  \\\n",
      "0             MATOUS PISL, POPLATEK ZA FOTBAL 1/2016          PETR PISL   \n",
      "1              SIMON PISL, POPLATEK ZA FOTBAL 1/2016          PETR PISL   \n",
      "2  JAN PLAINER FOTBAL LEDEN 2016 JAN PLAINER FOTB...  PLAINEROVÁ BLANKA   \n",
      "3  ONDRA PLAINER FOTBAL LEDEN 201ONDRA PLAINER FO...  PLAINEROVÁ BLANKA   \n",
      "4         FOTBAL                        DOUSA LE-CER       KOPOVÁ PETRA   \n",
      "\n",
      "                    Typ          VS  \n",
      "0  Bezhotovostní příjem     90324.0  \n",
      "1  Bezhotovostní příjem  17092006.0  \n",
      "2  Bezhotovostní příjem  25072007.0  \n",
      "3  Bezhotovostní příjem  13012011.0  \n",
      "4  Bezhotovostní příjem   4042009.0  \n",
      "           Datum  Objem Měna   Protiúčet  Kód banky   Zpráva pro příjemce  \\\n",
      "2133  12.11.2020    550  CZK   614857113      800.0   Sebastian_Ohem_2010   \n",
      "2134  12.11.2020    550  CZK  2265626163      800.0     Jan Čenkovic 2014   \n",
      "2135  13.11.2020  21600  CZK       59942      800.0                   NaN   \n",
      "2136  16.11.2020    550  CZK  8078607001     5500.0     Tomáš Brabec 2010   \n",
      "2137  23.11.2020    550  CZK  2113081985     2700.0  Oliver_Kabourek_2007   \n",
      "\n",
      "                  Poznámka                   Typ          VS  \n",
      "2133       Ohem Luděk,Ing.  Bezhotovostní příjem         NaN  \n",
      "2134    Čenkovic Stanislav  Bezhotovostní příjem         NaN  \n",
      "2135  Up Česká republika s  Bezhotovostní příjem  20514820.0  \n",
      "2136       Ing. Jan Brabec  Bezhotovostní příjem         NaN  \n",
      "2137         BOUŠOVÁ LUCIE  Bezhotovostní příjem         NaN  \n",
      "Index(['Datum', 'Objem', 'Měna', 'Protiúčet', 'Kód banky',\n",
      "       'Zpráva pro příjemce', 'Poznámka', 'Typ', 'VS'],\n",
      "      dtype='object')\n"
     ]
    }
   ],
   "source": [
    "df = pd.read_csv(\"C:\\\\Users\\\\micha\\\\Projects\\\\uhli\\\\Pohyby_na_uctu-2000679390_20160101-20201204.csv\", sep=\";\")\n",
    "print (\"len df - \", len(df))\n",
    "print(\"df size - \", df.size)\n",
    "print(df.head())\n",
    "print(df.tail())\n",
    "print(df.columns)"
   ]
  },
  {
   "cell_type": "code",
   "execution_count": 3,
   "metadata": {},
   "outputs": [
    {
     "name": "stdout",
     "output_type": "stream",
     "text": [
      "pocty plateb z uctu - 648777103            67\n",
      "4917274001           55\n",
      "194938688            52\n",
      "213560060            50\n",
      "670100-2211793118    49\n",
      "663513093            48\n",
      "2113081985           44\n",
      "1239254103           42\n",
      "1551743163           41\n",
      "755925001            38\n",
      "268930962            38\n",
      "43-2728120207        38\n",
      "478054083            35\n",
      "1527705028           34\n",
      "230982820            32\n",
      "2316054143           32\n",
      "602062022            30\n",
      "5009737001           30\n",
      "978573023            29\n",
      "1551235193           29\n",
      "Name: Protiúčet, dtype: int64\n"
     ]
    },
    {
     "data": {
      "text/plain": [
       "<AxesSubplot:>"
      ]
     },
     "execution_count": 3,
     "metadata": {},
     "output_type": "execute_result"
    },
    {
     "data": {
      "image/png": "[encoded data removed]",
      "text/plain": [
       "<Figure size 432x288 with 1 Axes>"
      ]
     },
     "metadata": {
      "needs_background": "light"
     },
     "output_type": "display_data"
    }
   ],
   "source": [
    "z_uctu=df['Protiúčet'].value_counts().head(20)\n",
    "print(\"pocty plateb z uctu -\", z_uctu)\n",
    "z_uctu.plot(kind='bar')\n"
   ]
  },
  {
   "cell_type": "code",
   "execution_count": null,
   "metadata": {},
   "outputs": [],
   "source": []
  }
 ],
 "metadata": {
  "kernelspec": {
   "display_name": "Python 3",
   "language": "python",
   "name": "python3"
  },
  "language_info": {
   "codemirror_mode": {
    "name": "ipython",
    "version": 3
   },
   "file_extension": ".py",
   "mimetype": "text/x-python",
   "name": "python",
   "nbconvert_exporter": "python",
   "pygments_lexer": "ipython3",
   "version": "3.8.6"
  }
 },
 "nbformat": 4,
 "nbformat_minor": 4
}
